{
 "cells": [
  {
   "cell_type": "code",
   "execution_count": 7,
   "metadata": {},
   "outputs": [
    {
     "name": "stdout",
     "output_type": "stream",
     "text": [
      "Requirement already satisfied: numpy in /home/doroza10/anaconda3/envs/myenv2/lib/python3.10/site-packages (1.26.4)\n",
      "Note: you may need to restart the kernel to use updated packages.\n"
     ]
    }
   ],
   "source": [
    "import pip\n",
    "\n",
    "\n",
    "%pip install numpy"
   ]
  },
  {
   "cell_type": "code",
   "execution_count": 2,
   "metadata": {},
   "outputs": [
    {
     "name": "stdout",
     "output_type": "stream",
     "text": [
      "/home/doroza10/anaconda3/envs/myenv2/bin/python\n",
      "3.10.14 (main, May  6 2024, 19:42:50) [GCC 11.2.0]\n"
     ]
    }
   ],
   "source": [
    "import sys\n",
    "print(sys.executable)\n",
    "print(sys.version)\n"
   ]
  },
  {
   "cell_type": "code",
   "execution_count": 8,
   "metadata": {},
   "outputs": [],
   "source": [
    "import numpy as np"
   ]
  },
  {
   "cell_type": "markdown",
   "metadata": {},
   "source": [
    "# 1. Create"
   ]
  },
  {
   "cell_type": "code",
   "execution_count": 5,
   "metadata": {},
   "outputs": [],
   "source": [
    "data = np.random.rand(2,3,4) # 2 arrays of 3 rows and 4 columns with random numbers\n",
    "zeroes = np.zeros((2,2,2)) # 2 arrays of 2 rows and 2 columns with zeroes\n",
    "full = np.full((2,2,2), 7) # 2 arrays of 2 rows and 2 columns with 7s\n",
    "ones = np.ones((2,2,2)) # 2 arrays of 2 rows and 2 columns with ones"
   ]
  },
  {
   "cell_type": "code",
   "execution_count": 5,
   "metadata": {},
   "outputs": [
    {
     "data": {
      "text/plain": [
       "array([[[0.76139955, 0.85126911, 0.41308691, 0.40199999],\n",
       "        [0.96232628, 0.99582465, 0.36186397, 0.54936689],\n",
       "        [0.10147976, 0.16372052, 0.51280173, 0.5090997 ]],\n",
       "\n",
       "       [[0.83486783, 0.24398366, 0.20364594, 0.56315545],\n",
       "        [0.32603714, 0.4300027 , 0.35309983, 0.32997648],\n",
       "        [0.26772747, 0.12935133, 0.2057052 , 0.50347333]]])"
      ]
     },
     "execution_count": 5,
     "metadata": {},
     "output_type": "execute_result"
    }
   ],
   "source": [
    "data"
   ]
  },
  {
   "cell_type": "code",
   "execution_count": 6,
   "metadata": {},
   "outputs": [
    {
     "data": {
      "text/plain": [
       "array([[[1., 1.],\n",
       "        [1., 1.]],\n",
       "\n",
       "       [[1., 1.],\n",
       "        [1., 1.]]])"
      ]
     },
     "execution_count": 6,
     "metadata": {},
     "output_type": "execute_result"
    }
   ],
   "source": [
    "ones"
   ]
  },
  {
   "cell_type": "code",
   "execution_count": 8,
   "metadata": {},
   "outputs": [],
   "source": [
    "arr = np.array([[1,2,3,4],[1,2,3,4]]) #This method is used to create a numpy array with our own values"
   ]
  },
  {
   "cell_type": "code",
   "execution_count": 9,
   "metadata": {},
   "outputs": [
    {
     "data": {
      "text/plain": [
       "numpy.ndarray"
      ]
     },
     "execution_count": 9,
     "metadata": {},
     "output_type": "execute_result"
    }
   ],
   "source": [
    "type(arr) #This method returns the type of the array, ndarray is n-dimensional array"
   ]
  },
  {
   "cell_type": "code",
   "execution_count": null,
   "metadata": {},
   "outputs": [],
   "source": []
  },
  {
   "cell_type": "markdown",
   "metadata": {},
   "source": [
    "# 2. Read"
   ]
  },
  {
   "cell_type": "code",
   "execution_count": 11,
   "metadata": {},
   "outputs": [
    {
     "name": "stdout",
     "output_type": "stream",
     "text": [
      "Shape:  (2, 3, 4)\n",
      "Size:  24\n",
      "Types:  float64\n"
     ]
    }
   ],
   "source": [
    "# Attributes\n",
    "shape = data.shape # (rows, columns)\n",
    "size = data.size # total number of elements\n",
    "types = data.dtype # data type of elements\n",
    "\n",
    "print(\"Shape: \", shape)\n",
    "print(\"Size: \", size)\n",
    "print(\"Types: \", types)"
   ]
  },
  {
   "cell_type": "code",
   "execution_count": 26,
   "metadata": {},
   "outputs": [
    {
     "data": {
      "text/plain": [
       "dtype('float64')"
      ]
     },
     "execution_count": 26,
     "metadata": {},
     "output_type": "execute_result"
    }
   ],
   "source": [
    "types "
   ]
  },
  {
   "cell_type": "code",
   "execution_count": 18,
   "metadata": {},
   "outputs": [
    {
     "name": "stdout",
     "output_type": "stream",
     "text": [
      "[[[0.29754521 0.19088793 0.4933393  0.14605659]\n",
      "  [0.56719725 0.68573608 0.50375865 0.5280663 ]\n",
      "  [0.24042    0.35234896 0.0386629  0.24907636]]\n",
      "\n",
      " [[0.30395779 0.99609347 0.54032039 0.50594562]\n",
      "  [0.33790961 0.70410867 0.49256839 0.88714011]\n",
      "  [0.88099432 0.36290885 0.29607573 0.90728808]]]\n",
      "\n",
      "\n",
      "[[0.29754521 0.19088793 0.4933393  0.14605659]\n",
      " [0.56719725 0.68573608 0.50375865 0.5280663 ]\n",
      " [0.24042    0.35234896 0.0386629  0.24907636]]\n",
      "\n",
      "[[0.29754521 0.19088793 0.4933393  0.14605659]\n",
      " [0.56719725 0.68573608 0.50375865 0.5280663 ]]\n",
      "\n",
      "[[0.30395779 0.99609347 0.54032039 0.50594562]\n",
      " [0.33790961 0.70410867 0.49256839 0.88714011]\n",
      " [0.88099432 0.36290885 0.29607573 0.90728808]]\n",
      "\n",
      "0.2975452070062846\n"
     ]
    }
   ],
   "source": [
    "# Slicing\n",
    "arr = data[0] #It will return the first array of the array\n",
    "slicer = data[0][0:2] #It takes the 2 first rows of the first array\n",
    "reverse = data[-1]  #It will return the last array of the array\n",
    "singleval = data[0][0][0] #It will return the first value of the first array of the array\n",
    "\n",
    "print(data)\n",
    "print()\n",
    "print()\n",
    "print(arr)\n",
    "print()\n",
    "print(slicer)\n",
    "print()\n",
    "print(reverse)\n",
    "print()\n",
    "print(singleval)\n"
   ]
  },
  {
   "cell_type": "code",
   "execution_count": 34,
   "metadata": {},
   "outputs": [
    {
     "data": {
      "text/plain": [
       "0.480031081005698"
      ]
     },
     "execution_count": 34,
     "metadata": {},
     "output_type": "execute_result"
    }
   ],
   "source": [
    "singleval"
   ]
  },
  {
   "cell_type": "code",
   "execution_count": 35,
   "metadata": {},
   "outputs": [
    {
     "data": {
      "text/plain": [
       "array([[[0.48003108, 0.44146385, 0.80173342, 0.36955555],\n",
       "        [0.36791853, 0.96672089, 0.02690897, 0.05000183],\n",
       "        [0.51120249, 0.09960263, 0.78821282, 0.85545042]],\n",
       "\n",
       "       [[0.67808393, 0.46217333, 0.80645816, 0.93515466],\n",
       "        [0.92385328, 0.04500892, 0.83364112, 0.94561375],\n",
       "        [0.356634  , 0.83439379, 0.82842758, 0.48934849]]])"
      ]
     },
     "execution_count": 35,
     "metadata": {},
     "output_type": "execute_result"
    }
   ],
   "source": [
    "data"
   ]
  },
  {
   "cell_type": "markdown",
   "metadata": {},
   "source": [
    "# 3. Update"
   ]
  },
  {
   "cell_type": "code",
   "execution_count": 26,
   "metadata": {},
   "outputs": [],
   "source": [
    "list1 = np.random.rand(10) #It creates a array of 10 random numbers between 0 and 1  \n",
    "list2 = np.random.rand(10) #It creates a array of 10 random numbers between 0 and 1"
   ]
  },
  {
   "cell_type": "code",
   "execution_count": 38,
   "metadata": {},
   "outputs": [
    {
     "data": {
      "text/plain": [
       "array([0.38704184, 0.53632305, 0.9944246 , 0.44505152, 0.64292829,\n",
       "       0.30036371, 0.62623128, 0.98110138, 0.24716036, 0.10309413])"
      ]
     },
     "execution_count": 38,
     "metadata": {},
     "output_type": "execute_result"
    }
   ],
   "source": [
    "list2"
   ]
  },
  {
   "cell_type": "code",
   "execution_count": 39,
   "metadata": {},
   "outputs": [],
   "source": [
    "# Basic Math\n",
    "add = np.add(list1, list2) #It adds the elements of both arrays\n",
    "sub = np.subtract(list1, list2) #It subtracts the elements of both arrays\n",
    "div = np.divide(list1, list2) #It divides the elements of both arrays\n",
    "mult = np.multiply(list1, list2) #It multiplies the elements of both arrays\n",
    "dot = np.dot(list1, list2) #np.dot() is used to compute the dot product of two arrays which is useful to see if vectors points in the same direction"
   ]
  },
  {
   "cell_type": "code",
   "execution_count": 45,
   "metadata": {},
   "outputs": [
    {
     "data": {
      "text/plain": [
       "2.9501773252530117"
      ]
     },
     "execution_count": 45,
     "metadata": {},
     "output_type": "execute_result"
    }
   ],
   "source": [
    "dot"
   ]
  },
  {
   "cell_type": "code",
   "execution_count": 34,
   "metadata": {},
   "outputs": [],
   "source": [
    "# Stat Functions SAP - LEMs \"Un SAPo comiendo pan de LEMbas\"\n",
    "sqrt = np.sqrt(25) #calculates the square root of 25\n",
    "ab = np.abs(-2) #calculates the absolute value of -2 \n",
    "power = np.power(2,7) #calculates 2 to the power of 7 f\n",
    "log = np.log(25) #calculates the natural log of 25 \n",
    "exps = np.exp([2,3]) #it calculates the exponential of 2 and 3 for each element in the array\n",
    "mins = np.min(list1) #it calculates the minimum value among the elements o array\n",
    "maxs = np.max(list1) #it calculates the maximum value between the elements of array"
   ]
  },
  {
   "cell_type": "code",
   "execution_count": 37,
   "metadata": {},
   "outputs": [
    {
     "data": {
      "text/plain": [
       "0.936255686386591"
      ]
     },
     "execution_count": 37,
     "metadata": {},
     "output_type": "execute_result"
    }
   ],
   "source": [
    "maxs"
   ]
  },
  {
   "cell_type": "code",
   "execution_count": 57,
   "metadata": {},
   "outputs": [
    {
     "data": {
      "text/plain": [
       "array([[[0.48003108, 0.44146385, 0.80173342, 0.36955555],\n",
       "        [0.36791853, 0.96672089, 0.02690897, 0.05000183],\n",
       "        [0.51120249, 0.09960263, 0.78821282, 0.85545042]],\n",
       "\n",
       "       [[0.67808393, 0.46217333, 0.80645816, 0.93515466],\n",
       "        [0.92385328, 0.04500892, 0.83364112, 0.94561375],\n",
       "        [0.356634  , 0.83439379, 0.82842758, 0.48934849]]])"
      ]
     },
     "execution_count": 57,
     "metadata": {},
     "output_type": "execute_result"
    }
   ],
   "source": [
    "data"
   ]
  },
  {
   "cell_type": "code",
   "execution_count": 59,
   "metadata": {},
   "outputs": [],
   "source": [
    "data[0][0][0] = 700"
   ]
  },
  {
   "cell_type": "code",
   "execution_count": 60,
   "metadata": {},
   "outputs": [
    {
     "data": {
      "text/plain": [
       "array([[[7.00000000e+02, 4.41463849e-01, 8.01733417e-01, 3.69555550e-01],\n",
       "        [3.67918528e-01, 9.66720888e-01, 2.69089716e-02, 5.00018320e-02],\n",
       "        [5.11202492e-01, 9.96026268e-02, 7.88212818e-01, 8.55450419e-01]],\n",
       "\n",
       "       [[6.78083930e-01, 4.62173332e-01, 8.06458161e-01, 9.35154662e-01],\n",
       "        [9.23853275e-01, 4.50089233e-02, 8.33641123e-01, 9.45613753e-01],\n",
       "        [3.56634000e-01, 8.34393794e-01, 8.28427576e-01, 4.89348492e-01]]])"
      ]
     },
     "execution_count": 60,
     "metadata": {},
     "output_type": "execute_result"
    }
   ],
   "source": [
    "data"
   ]
  },
  {
   "cell_type": "code",
   "execution_count": 62,
   "metadata": {},
   "outputs": [
    {
     "data": {
      "text/plain": [
       "array([[[3.69555550e-01, 4.41463849e-01, 8.01733417e-01, 7.00000000e+02],\n",
       "        [2.69089716e-02, 5.00018320e-02, 3.67918528e-01, 9.66720888e-01],\n",
       "        [9.96026268e-02, 5.11202492e-01, 7.88212818e-01, 8.55450419e-01]],\n",
       "\n",
       "       [[4.62173332e-01, 6.78083930e-01, 8.06458161e-01, 9.35154662e-01],\n",
       "        [4.50089233e-02, 8.33641123e-01, 9.23853275e-01, 9.45613753e-01],\n",
       "        [3.56634000e-01, 4.89348492e-01, 8.28427576e-01, 8.34393794e-01]]])"
      ]
     },
     "execution_count": 62,
     "metadata": {},
     "output_type": "execute_result"
    }
   ],
   "source": [
    "data.sort() #sort the data in ascending order\n",
    "data"
   ]
  },
  {
   "cell_type": "code",
   "execution_count": 38,
   "metadata": {},
   "outputs": [
    {
     "name": "stdout",
     "output_type": "stream",
     "text": [
      "(2, 3, 4)\n",
      "[[[0.29754521 0.19088793 0.4933393  0.14605659]\n",
      "  [0.56719725 0.68573608 0.50375865 0.5280663 ]\n",
      "  [0.24042    0.35234896 0.0386629  0.24907636]]\n",
      "\n",
      " [[0.30395779 0.99609347 0.54032039 0.50594562]\n",
      "  [0.33790961 0.70410867 0.49256839 0.88714011]\n",
      "  [0.88099432 0.36290885 0.29607573 0.90728808]]]\n"
     ]
    }
   ],
   "source": [
    "print(data.shape) #it will give the shape of the array which is 2D array with 3 rows and 4 columns\n",
    "print(data)"
   ]
  },
  {
   "cell_type": "code",
   "execution_count": 39,
   "metadata": {},
   "outputs": [
    {
     "name": "stdout",
     "output_type": "stream",
     "text": [
      "(2, 2, 6)\n",
      "[[[0.29754521 0.19088793 0.4933393  0.14605659 0.56719725 0.68573608]\n",
      "  [0.50375865 0.5280663  0.24042    0.35234896 0.0386629  0.24907636]]\n",
      "\n",
      " [[0.30395779 0.99609347 0.54032039 0.50594562 0.33790961 0.70410867]\n",
      "  [0.49256839 0.88714011 0.88099432 0.36290885 0.29607573 0.90728808]]]\n"
     ]
    }
   ],
   "source": [
    "\n",
    "data = data.reshape((2,2,-1)) #we are reshaping the array and the -1 means that we don't care about the dimension of the last axis\n",
    "print(data.shape)\n",
    "print(data)\n"
   ]
  },
  {
   "cell_type": "code",
   "execution_count": 67,
   "metadata": {},
   "outputs": [
    {
     "name": "stdout",
     "output_type": "stream",
     "text": [
      "[0. 0. 0. 0. 0. 0. 0. 0.]\n",
      "[0. 0. 0. 0. 0. 0. 0. 0. 3. 4.]\n"
     ]
    }
   ],
   "source": [
    "zeroes = np.zeros((8)) #we create an array of 8 zeroes\n",
    "print(zeroes) #we print the array\n",
    "zeroes = np.append(zeroes, [3,4]) #we append 3 and 4 to the array\n",
    "print(zeroes)"
   ]
  },
  {
   "cell_type": "code",
   "execution_count": 68,
   "metadata": {},
   "outputs": [
    {
     "name": "stdout",
     "output_type": "stream",
     "text": [
      "[0. 0. 1. 0. 0. 0. 0. 0. 0. 3. 4.]\n"
     ]
    }
   ],
   "source": [
    "zeroes = np.insert(zeroes, 2, 1) #Here we are inserting 1 at index 2 on the array named zeroes that was defined in the previous cell\n",
    "print(zeroes)"
   ]
  },
  {
   "cell_type": "markdown",
   "metadata": {},
   "source": [
    "# 4. Delete"
   ]
  },
  {
   "cell_type": "code",
   "execution_count": 40,
   "metadata": {},
   "outputs": [
    {
     "data": {
      "text/plain": [
       "array([[[0.29754521, 0.19088793, 0.4933393 , 0.14605659, 0.56719725,\n",
       "         0.68573608],\n",
       "        [0.50375865, 0.5280663 , 0.24042   , 0.35234896, 0.0386629 ,\n",
       "         0.24907636]],\n",
       "\n",
       "       [[0.30395779, 0.99609347, 0.54032039, 0.50594562, 0.33790961,\n",
       "         0.70410867],\n",
       "        [0.49256839, 0.88714011, 0.88099432, 0.36290885, 0.29607573,\n",
       "         0.90728808]]])"
      ]
     },
     "execution_count": 40,
     "metadata": {},
     "output_type": "execute_result"
    }
   ],
   "source": [
    "data"
   ]
  },
  {
   "cell_type": "code",
   "execution_count": 41,
   "metadata": {},
   "outputs": [
    {
     "data": {
      "text/plain": [
       "array([[[0.30395779, 0.99609347, 0.54032039, 0.50594562, 0.33790961,\n",
       "         0.70410867],\n",
       "        [0.49256839, 0.88714011, 0.88099432, 0.36290885, 0.29607573,\n",
       "         0.90728808]]])"
      ]
     },
     "execution_count": 41,
     "metadata": {},
     "output_type": "execute_result"
    }
   ],
   "source": [
    "np.delete(data, 0, axis=0) #delete the first array"
   ]
  },
  {
   "cell_type": "code",
   "execution_count": 48,
   "metadata": {},
   "outputs": [
    {
     "name": "stdout",
     "output_type": "stream",
     "text": [
      "(2, 2, 6)\n",
      "[[[0.29754521 0.19088793 0.4933393  0.14605659 0.56719725 0.68573608]\n",
      "  [0.50375865 0.5280663  0.24042    0.35234896 0.0386629  0.24907636]]\n",
      "\n",
      " [[0.30395779 0.99609347 0.54032039 0.50594562 0.33790961 0.70410867]\n",
      "  [0.49256839 0.88714011 0.88099432 0.36290885 0.29607573 0.90728808]]]\n",
      "\n",
      "\n",
      "[[[0.50375865 0.5280663  0.24042    0.35234896 0.0386629  0.24907636]]\n",
      "\n",
      " [[0.49256839 0.88714011 0.88099432 0.36290885 0.29607573 0.90728808]]]\n"
     ]
    }
   ],
   "source": [
    "print(np.shape(data)) # returns the shape of the array\n",
    "print(data)\n",
    "print()\n",
    "print()\n",
    "print(np.delete(data, 0, axis=1)) # deletes the the first row across all the layers (sub-arrays)\n",
    "\n",
    "#Important: When working with 3D arrays in NumPy, the axis parameter becomes crucial in determining which dimension you're operating on:\n",
    "\n",
    "#axis=0: Operates on the \"layers (subarrays)\". => print(np.delete(arr_3d, 1, axis=0)) # deletes the second layer (second sub-array - index 1)\n",
    "#axis=1: Operates on the rows across all layers. => print(np.delete(arr_3d, 2, axis=1)) # deletes the third row across all layers\n",
    "#axis=2: Operates on the columns across all rows and layers. =>print(np.delete(arr_3d, 0, axis=2)) # deletes the first column across all layers and rows\n",
    "\n",
    "#Deleting Multiple Layers\n",
    "#print(np.delete(arr_3d, [0, 2], axis=0)) => deletes the first and third layers (sub-arrays - indices 0 and 2)\n"
   ]
  },
  {
   "cell_type": "code",
   "execution_count": 71,
   "metadata": {},
   "outputs": [],
   "source": [
    "np.save(\"new array\", data)"
   ]
  },
  {
   "cell_type": "code",
   "execution_count": 72,
   "metadata": {},
   "outputs": [],
   "source": [
    "test = np.load(\"new array.npy\")"
   ]
  },
  {
   "cell_type": "code",
   "execution_count": 73,
   "metadata": {},
   "outputs": [
    {
     "data": {
      "text/plain": [
       "array([[[3.69555550e-01, 4.41463849e-01, 8.01733417e-01, 7.00000000e+02,\n",
       "         2.69089716e-02, 5.00018320e-02],\n",
       "        [3.67918528e-01, 9.66720888e-01, 9.96026268e-02, 5.11202492e-01,\n",
       "         7.88212818e-01, 8.55450419e-01]],\n",
       "\n",
       "       [[4.62173332e-01, 6.78083930e-01, 8.06458161e-01, 9.35154662e-01,\n",
       "         4.50089233e-02, 8.33641123e-01],\n",
       "        [9.23853275e-01, 9.45613753e-01, 3.56634000e-01, 4.89348492e-01,\n",
       "         8.28427576e-01, 8.34393794e-01]]])"
      ]
     },
     "execution_count": 73,
     "metadata": {},
     "output_type": "execute_result"
    }
   ],
   "source": [
    "test"
   ]
  },
  {
   "cell_type": "code",
   "execution_count": null,
   "metadata": {},
   "outputs": [],
   "source": [
    "print('testing')"
   ]
  }
 ],
 "metadata": {
  "kernelspec": {
   "display_name": "Python 3",
   "language": "python",
   "name": "python3"
  },
  "language_info": {
   "codemirror_mode": {
    "name": "ipython",
    "version": 3
   },
   "file_extension": ".py",
   "mimetype": "text/x-python",
   "name": "python",
   "nbconvert_exporter": "python",
   "pygments_lexer": "ipython3",
   "version": "3.10.14"
  }
 },
 "nbformat": 4,
 "nbformat_minor": 2
}
